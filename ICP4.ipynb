{
 "cells": [
  {
   "cell_type": "code",
   "execution_count": 2,
   "id": "f61565e9",
   "metadata": {},
   "outputs": [],
   "source": [
    "import numpy as np\n",
    "import pandas as pd"
   ]
  },
  {
   "cell_type": "code",
   "execution_count": 3,
   "id": "7693e090",
   "metadata": {
    "scrolled": true
   },
   "outputs": [
    {
     "name": "stdout",
     "output_type": "stream",
     "text": [
      "<class 'pandas.core.frame.DataFrame'>\n",
      "RangeIndex: 169 entries, 0 to 168\n",
      "Data columns (total 4 columns):\n",
      " #   Column    Non-Null Count  Dtype  \n",
      "---  ------    --------------  -----  \n",
      " 0   Duration  169 non-null    int64  \n",
      " 1   Pulse     169 non-null    int64  \n",
      " 2   Maxpulse  169 non-null    int64  \n",
      " 3   Calories  164 non-null    float64\n",
      "dtypes: float64(1), int64(3)\n",
      "memory usage: 5.4 KB\n"
     ]
    }
   ],
   "source": [
    "#Read the provided CSV file ‘data.csv’\n",
    "data_Manip = pd.read_csv('C:\\\\Users\\\\dwara\\\\Downloads\\\\data.csv')\n",
    "data_Manip.info()"
   ]
  },
  {
   "cell_type": "code",
   "execution_count": 4,
   "id": "22fd8134",
   "metadata": {},
   "outputs": [
    {
     "data": {
      "text/html": [
       "<div>\n",
       "<style scoped>\n",
       "    .dataframe tbody tr th:only-of-type {\n",
       "        vertical-align: middle;\n",
       "    }\n",
       "\n",
       "    .dataframe tbody tr th {\n",
       "        vertical-align: top;\n",
       "    }\n",
       "\n",
       "    .dataframe thead th {\n",
       "        text-align: right;\n",
       "    }\n",
       "</style>\n",
       "<table border=\"1\" class=\"dataframe\">\n",
       "  <thead>\n",
       "    <tr style=\"text-align: right;\">\n",
       "      <th></th>\n",
       "      <th>Duration</th>\n",
       "      <th>Pulse</th>\n",
       "      <th>Maxpulse</th>\n",
       "      <th>Calories</th>\n",
       "    </tr>\n",
       "  </thead>\n",
       "  <tbody>\n",
       "    <tr>\n",
       "      <th>0</th>\n",
       "      <td>60</td>\n",
       "      <td>110</td>\n",
       "      <td>130</td>\n",
       "      <td>409.1</td>\n",
       "    </tr>\n",
       "    <tr>\n",
       "      <th>1</th>\n",
       "      <td>60</td>\n",
       "      <td>117</td>\n",
       "      <td>145</td>\n",
       "      <td>479.0</td>\n",
       "    </tr>\n",
       "    <tr>\n",
       "      <th>2</th>\n",
       "      <td>60</td>\n",
       "      <td>103</td>\n",
       "      <td>135</td>\n",
       "      <td>340.0</td>\n",
       "    </tr>\n",
       "    <tr>\n",
       "      <th>3</th>\n",
       "      <td>45</td>\n",
       "      <td>109</td>\n",
       "      <td>175</td>\n",
       "      <td>282.4</td>\n",
       "    </tr>\n",
       "    <tr>\n",
       "      <th>4</th>\n",
       "      <td>45</td>\n",
       "      <td>117</td>\n",
       "      <td>148</td>\n",
       "      <td>406.0</td>\n",
       "    </tr>\n",
       "  </tbody>\n",
       "</table>\n",
       "</div>"
      ],
      "text/plain": [
       "   Duration  Pulse  Maxpulse  Calories\n",
       "0        60    110       130     409.1\n",
       "1        60    117       145     479.0\n",
       "2        60    103       135     340.0\n",
       "3        45    109       175     282.4\n",
       "4        45    117       148     406.0"
      ]
     },
     "execution_count": 4,
     "metadata": {},
     "output_type": "execute_result"
    }
   ],
   "source": [
    "#(c) Show the basic statistical description about the data.\n",
    "data_Manip.head()"
   ]
  },
  {
   "cell_type": "code",
   "execution_count": 5,
   "id": "ca2f0b80",
   "metadata": {},
   "outputs": [
    {
     "data": {
      "text/plain": [
       "Duration    False\n",
       "Pulse       False\n",
       "Maxpulse    False\n",
       "Calories     True\n",
       "dtype: bool"
      ]
     },
     "execution_count": 5,
     "metadata": {},
     "output_type": "execute_result"
    }
   ],
   "source": [
    "#(d)Check if the data has null values.\n",
    "data_Manip.isnull().any()"
   ]
  },
  {
   "cell_type": "code",
   "execution_count": 6,
   "id": "2e2e5f88",
   "metadata": {},
   "outputs": [
    {
     "data": {
      "text/plain": [
       "Duration    False\n",
       "Pulse       False\n",
       "Maxpulse    False\n",
       "Calories    False\n",
       "dtype: bool"
      ]
     },
     "execution_count": 6,
     "metadata": {},
     "output_type": "execute_result"
    }
   ],
   "source": [
    "data_Manip.fillna(data_Manip.mean(), inplace=True)\n",
    "data_Manip.isnull().any()"
   ]
  },
  {
   "cell_type": "code",
   "execution_count": 11,
   "id": "5b0f2953",
   "metadata": {},
   "outputs": [
    {
     "name": "stdout",
     "output_type": "stream",
     "text": [
      "Duration     63.846154\n",
      "Pulse       107.461538\n",
      "Maxpulse    134.047337\n",
      "Calories    375.790244\n",
      "dtype: float64\n",
      "    Duration  Pulse  Maxpulse    Calories\n",
      "0         60    110       130  409.100000\n",
      "1         60    117       145  479.000000\n",
      "2         60    103       135  340.000000\n",
      "3         45    109       175  282.400000\n",
      "4         45    117       148  406.000000\n",
      "5         60    102       127  300.000000\n",
      "6         60    110       136  374.000000\n",
      "7         45    104       134  253.300000\n",
      "8         30    109       133  195.100000\n",
      "9         60     98       124  269.000000\n",
      "10        60    103       147  329.300000\n",
      "11        60    100       120  250.700000\n",
      "12        60    106       128  345.300000\n",
      "13        60    104       132  379.300000\n",
      "14        60     98       123  275.000000\n",
      "15        60     98       120  215.200000\n",
      "16        60    100       120  300.000000\n",
      "17        45     90       112  375.790244\n",
      "18        60    103       123  323.000000\n",
      "19        45     97       125  243.000000\n"
     ]
    }
   ],
   "source": [
    "#d(i)Replace the null values with the mean\n",
    "column_means = data_Manip.mean()\n",
    "print(column_means)\n",
    "data_Manip = data_Manip. fillna(column_means)\n",
    "print(data_Manip.head(20))"
   ]
  },
  {
   "cell_type": "code",
   "execution_count": 7,
   "id": "055ca1c1",
   "metadata": {},
   "outputs": [
    {
     "name": "stdout",
     "output_type": "stream",
     "text": [
      "          Calories       Pulse\n",
      "mean    375.790244  107.461538\n",
      "min      50.300000   80.000000\n",
      "max    1860.400000  159.000000\n",
      "count   169.000000  169.000000\n"
     ]
    }
   ],
   "source": [
    "#(e)Select at least two columns and aggregate the data using: min, max, count, mean.\n",
    "res = data_Manip.agg({'Calories': ['mean', 'min','max', 'count'],'Pulse': ['mean', 'min', 'max', 'count']})\n",
    "print(res)"
   ]
  },
  {
   "cell_type": "code",
   "execution_count": 8,
   "id": "aa414933",
   "metadata": {},
   "outputs": [
    {
     "name": "stdout",
     "output_type": "stream",
     "text": [
      "     Duration  Pulse  Maxpulse  Calories\n",
      "51         80    123       146     643.1\n",
      "62        160    109       135     853.0\n",
      "65        180     90       130     800.4\n",
      "66        150    105       135     873.4\n",
      "67        150    107       130     816.0\n",
      "72         90    100       127     700.0\n",
      "73        150     97       127     953.2\n",
      "75         90     98       125     563.2\n",
      "78        120    100       130     500.4\n",
      "90        180    101       127     600.1\n",
      "99         90     93       124     604.1\n",
      "103        90     90       100     500.4\n",
      "106       180     90       120     800.3\n",
      "108        90     90       120     500.3\n"
     ]
    }
   ],
   "source": [
    "#(f)Filter the dataframe to select the rows with calories values between 500 and 1000\n",
    "filter_data_Manip1=data_Manip[(data_Manip['Calories'] > 500) & (data_Manip['Calories'] < 1000)]\n",
    "print(filter_data_Manip1)"
   ]
  },
  {
   "cell_type": "code",
   "execution_count": 9,
   "id": "29778fe9",
   "metadata": {},
   "outputs": [
    {
     "name": "stdout",
     "output_type": "stream",
     "text": [
      "     Duration  Pulse  Maxpulse  Calories\n",
      "65        180     90       130     800.4\n",
      "70        150     97       129    1115.0\n",
      "73        150     97       127     953.2\n",
      "75         90     98       125     563.2\n",
      "99         90     93       124     604.1\n",
      "103        90     90       100     500.4\n",
      "106       180     90       120     800.3\n",
      "108        90     90       120     500.3\n"
     ]
    }
   ],
   "source": [
    "#(g)Filter the dataframe to select the rows with calories values > 500 and pulse < 100.\n",
    "filter_data_Manip2=data_Manip[(data_Manip['Calories'] > 500) & (data_Manip['Pulse'] < 100)]\n",
    "print(filter_data_Manip2)"
   ]
  },
  {
   "cell_type": "code",
   "execution_count": 10,
   "id": "04fd2bac",
   "metadata": {},
   "outputs": [
    {
     "name": "stdout",
     "output_type": "stream",
     "text": [
      "     Duration  Pulse  Calories\n",
      "0          60    110     409.1\n",
      "1          60    117     479.0\n",
      "2          60    103     340.0\n",
      "3          45    109     282.4\n",
      "4          45    117     406.0\n",
      "..        ...    ...       ...\n",
      "164        60    105     290.8\n",
      "165        60    110     300.0\n",
      "166        60    115     310.2\n",
      "167        75    120     320.4\n",
      "168        75    125     330.4\n",
      "\n",
      "[169 rows x 3 columns]\n"
     ]
    }
   ],
   "source": [
    "#(h)Create a new “df_modified” dataframe that contains all the columns from dst_data except for\n",
    "#“Maxpulse”.\n",
    "data_modified = data_Manip.loc[:, data_Manip.columns != 'Maxpulse']\n",
    "print(data_modified)"
   ]
  },
  {
   "cell_type": "code",
   "execution_count": 11,
   "id": "9a8814f9",
   "metadata": {},
   "outputs": [
    {
     "name": "stdout",
     "output_type": "stream",
     "text": [
      "Duration      int64\n",
      "Pulse         int64\n",
      "Calories    float64\n",
      "dtype: object\n"
     ]
    }
   ],
   "source": [
    "#(i). Delete the “Maxpulse” column from the main dst_data dataframe\n",
    "data_Manip.drop('Maxpulse', inplace=True, axis=1)\n",
    "print(data_Manip.dtypes)"
   ]
  },
  {
   "cell_type": "code",
   "execution_count": 12,
   "id": "6b0aa803",
   "metadata": {},
   "outputs": [
    {
     "name": "stdout",
     "output_type": "stream",
     "text": [
      "Duration    int64\n",
      "Pulse       int64\n",
      "Calories    int32\n",
      "dtype: object\n"
     ]
    }
   ],
   "source": [
    "#(j). Convert the datatype of Calories column to int datatype\n",
    "data_Manip[\"Calories\"] = data_Manip[\"Calories\"].astype(float).astype(int)\n",
    "print(data_Manip.dtypes)"
   ]
  },
  {
   "cell_type": "code",
   "execution_count": 13,
   "id": "aee4480d",
   "metadata": {},
   "outputs": [
    {
     "name": "stdout",
     "output_type": "stream",
     "text": [
      "Axes(0.125,0.11;0.775x0.77)\n"
     ]
    },
    {
     "data": {
      "image/png": "[encoded data removed]",
      "text/plain": [
       "<Figure size 640x480 with 1 Axes>"
      ]
     },
     "metadata": {},
     "output_type": "display_data"
    }
   ],
   "source": [
    "#(k)Using pandas create a scatter plot for the two columns (Duration and Calories).\n",
    "sp1 = data_Manip.plot.scatter(x='Duration',y='Calories')\n",
    "print(sp1)"
   ]
  },
  {
   "cell_type": "code",
   "execution_count": 15,
   "id": "a1a3a6d1",
   "metadata": {},
   "outputs": [
    {
     "name": "stdout",
     "output_type": "stream",
     "text": [
      "<class 'pandas.core.frame.DataFrame'>\n",
      "RangeIndex: 30 entries, 0 to 29\n",
      "Data columns (total 2 columns):\n",
      " #   Column           Non-Null Count  Dtype  \n",
      "---  ------           --------------  -----  \n",
      " 0   YearsExperience  30 non-null     float64\n",
      " 1   Salary           30 non-null     float64\n",
      "dtypes: float64(2)\n",
      "memory usage: 612.0 bytes\n"
     ]
    },
    {
     "data": {
      "text/html": [
       "<div>\n",
       "<style scoped>\n",
       "    .dataframe tbody tr th:only-of-type {\n",
       "        vertical-align: middle;\n",
       "    }\n",
       "\n",
       "    .dataframe tbody tr th {\n",
       "        vertical-align: top;\n",
       "    }\n",
       "\n",
       "    .dataframe thead th {\n",
       "        text-align: right;\n",
       "    }\n",
       "</style>\n",
       "<table border=\"1\" class=\"dataframe\">\n",
       "  <thead>\n",
       "    <tr style=\"text-align: right;\">\n",
       "      <th></th>\n",
       "      <th>YearsExperience</th>\n",
       "      <th>Salary</th>\n",
       "    </tr>\n",
       "  </thead>\n",
       "  <tbody>\n",
       "    <tr>\n",
       "      <th>0</th>\n",
       "      <td>1.1</td>\n",
       "      <td>39343.0</td>\n",
       "    </tr>\n",
       "    <tr>\n",
       "      <th>1</th>\n",
       "      <td>1.3</td>\n",
       "      <td>46205.0</td>\n",
       "    </tr>\n",
       "    <tr>\n",
       "      <th>2</th>\n",
       "      <td>1.5</td>\n",
       "      <td>37731.0</td>\n",
       "    </tr>\n",
       "    <tr>\n",
       "      <th>3</th>\n",
       "      <td>2.0</td>\n",
       "      <td>43525.0</td>\n",
       "    </tr>\n",
       "    <tr>\n",
       "      <th>4</th>\n",
       "      <td>2.2</td>\n",
       "      <td>39891.0</td>\n",
       "    </tr>\n",
       "  </tbody>\n",
       "</table>\n",
       "</div>"
      ],
      "text/plain": [
       "   YearsExperience   Salary\n",
       "0              1.1  39343.0\n",
       "1              1.3  46205.0\n",
       "2              1.5  37731.0\n",
       "3              2.0  43525.0\n",
       "4              2.2  39891.0"
      ]
     },
     "execution_count": 15,
     "metadata": {},
     "output_type": "execute_result"
    }
   ],
   "source": [
    "# 2(a) Import the given “Salary_Data.csv”\n",
    "Lin_Re = pd.read_csv('C:\\\\Users\\\\dwara\\\\Downloads\\\\Salary_Data.csv')\n",
    "Lin_Re.info()\n",
    "Lin_Re.head()"
   ]
  },
  {
   "cell_type": "code",
   "execution_count": 16,
   "id": "f10c2b19",
   "metadata": {},
   "outputs": [],
   "source": [
    "#excluding last column i.e., years of experience column\n",
    "A = Lin_Re.iloc[:, :-1].values   \n",
    "#only salary column\n",
    "B = Lin_Re.iloc[:, 1].values "
   ]
  },
  {
   "cell_type": "code",
   "execution_count": 17,
   "id": "c7007fc4",
   "metadata": {},
   "outputs": [],
   "source": [
    "# (b) Split the data in train_test partitions, such that 1/3 of the data is reserved as test subset.\n",
    "from sklearn.model_selection import train_test_split \n",
    "A_train, A_test, B_train, B_test = train_test_split(A, B, test_size=1/3, random_state=0)"
   ]
  },
  {
   "cell_type": "code",
   "execution_count": 18,
   "id": "3cd44676",
   "metadata": {},
   "outputs": [
    {
     "data": {
      "text/plain": [
       "array([ 40835.10590871, 123079.39940819,  65134.55626083,  63265.36777221,\n",
       "       115602.64545369, 108125.8914992 , 116537.23969801,  64199.96201652,\n",
       "        76349.68719258, 100649.1375447 ])"
      ]
     },
     "execution_count": 18,
     "metadata": {},
     "output_type": "execute_result"
    }
   ],
   "source": [
    "# (c) Train and predict the model.\n",
    "from sklearn.linear_model import LinearRegression\n",
    "lRegression = LinearRegression()\n",
    "lRegression.fit(A_train, B_train)\n",
    "B_Pred = lRegression.predict(A_test)\n",
    "B_Pred"
   ]
  },
  {
   "cell_type": "code",
   "execution_count": 19,
   "id": "22d7f79e",
   "metadata": {},
   "outputs": [
    {
     "data": {
      "text/plain": [
       "21026037.329511296"
      ]
     },
     "execution_count": 19,
     "metadata": {},
     "output_type": "execute_result"
    }
   ],
   "source": [
    "# (d) Calculate the mean_squared error\n",
    "Sum_Serror = np.sum((B_Pred - B_test) ** 2)\n",
    "mean_squared_error = Sum_Serror / B_test.size\n",
    "mean_squared_error"
   ]
  },
  {
   "cell_type": "code",
   "execution_count": 20,
   "id": "8a93f841",
   "metadata": {},
   "outputs": [
    {
     "data": {
      "image/png": "[encoded data removed]",
      "text/plain": [
       "<Figure size 640x480 with 1 Axes>"
      ]
     },
     "metadata": {},
     "output_type": "display_data"
    }
   ],
   "source": [
    "# (e) Visualize both train and test data using scatter plot.\n",
    "import matplotlib.pyplot as plt\n",
    "# Training Data set\n",
    "plt.scatter(A_train, B_train)\n",
    "plt.plot(A_train, lRegression.predict(A_train), color='red')\n",
    "plt.title('Training Set')\n",
    "plt.show()"
   ]
  },
  {
   "cell_type": "code",
   "execution_count": 21,
   "id": "c4751a57",
   "metadata": {},
   "outputs": [
    {
     "data": {
      "image/png": "[encoded data removed]",
      "text/plain": [
       "<Figure size 640x480 with 1 Axes>"
      ]
     },
     "metadata": {},
     "output_type": "display_data"
    }
   ],
   "source": [
    "# Testing Data set\n",
    "plt.scatter(A_test, B_test)\n",
    "plt.plot(A_test, lRegression.predict(A_test), color='red')\n",
    "plt.title('Testing Set')\n",
    "plt.show()"
   ]
  },
  {
   "cell_type": "code",
   "execution_count": null,
   "id": "a68a6b44",
   "metadata": {},
   "outputs": [],
   "source": []
  }
 ],
 "metadata": {
  "kernelspec": {
   "display_name": "Python 3 (ipykernel)",
   "language": "python",
   "name": "python3"
  },
  "language_info": {
   "codemirror_mode": {
    "name": "ipython",
    "version": 3
   },
   "file_extension": ".py",
   "mimetype": "text/x-python",
   "name": "python",
   "nbconvert_exporter": "python",
   "pygments_lexer": "ipython3",
   "version": "3.11.5"
  }
 },
 "nbformat": 4,
 "nbformat_minor": 5
}
